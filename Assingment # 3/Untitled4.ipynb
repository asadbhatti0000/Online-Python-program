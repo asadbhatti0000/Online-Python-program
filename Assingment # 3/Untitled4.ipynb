{
 "cells": [
  {
   "cell_type": "code",
   "execution_count": 8,
   "id": "9263057b",
   "metadata": {},
   "outputs": [
    {
     "name": "stdout",
     "output_type": "stream",
     "text": [
      "Twinkle, twinkle, little star,\n",
      "        How I wonder what you are!\n",
      "               Up above the world so high,\n",
      "               Like a diamond in the sky.\n",
      " Twinkle, twinkle, little star,\n",
      "        How I wonder what you are\n"
     ]
    }
   ],
   "source": [
    "a = \"Twinkle, twinkle, little star,\\n\";\n",
    "b = \"       How I wonder what you are!\\n\";\n",
    "c = \"              Up above the world so high,\\n\";\n",
    "d = \"              Like a diamond in the sky.\\n\";\n",
    "e = \"Twinkle, twinkle, little star,\\n\";\n",
    "f = \"       How I wonder what you are\";\n",
    "print(a,b,c,d,e,f)"
   ]
  },
  {
   "cell_type": "code",
   "execution_count": 12,
   "id": "a1105ac9",
   "metadata": {},
   "outputs": [
    {
     "name": "stdout",
     "output_type": "stream",
     "text": [
      "Python version\n",
      "3.8.8 (default, Apr 13 2021, 15:08:03) [MSC v.1916 64 bit (AMD64)]\n"
     ]
    }
   ],
   "source": [
    "import sys\n",
    "print(\"Python version\");\n",
    "print (sys.version)"
   ]
  },
  {
   "cell_type": "code",
   "execution_count": 16,
   "id": "5cd4fba3",
   "metadata": {},
   "outputs": [
    {
     "name": "stdout",
     "output_type": "stream",
     "text": [
      "Current date and time : \n",
      "2021-10-24 05:01:24\n"
     ]
    }
   ],
   "source": [
    "import datetime\n",
    "now = datetime.datetime.now();\n",
    "print (\"Current date and time : \");\n",
    "print (now.strftime(\"%Y-%m-%d %H:%M:%S\"))"
   ]
  },
  {
   "cell_type": "code",
   "execution_count": 17,
   "id": "d537511e",
   "metadata": {},
   "outputs": [
    {
     "name": "stdout",
     "output_type": "stream",
     "text": [
      "Input the radius of the circle : 2\n",
      "The area of the circle with radius 2.0 is: 12.566370614359172\n"
     ]
    }
   ],
   "source": [
    "from math import pi\n",
    "r = float(input (\"Input the radius of the circle : \"));\n",
    "print (\"The area of the circle with radius \" + str(r) + \" is: \" + str(pi * r**2))"
   ]
  },
  {
   "cell_type": "code",
   "execution_count": 18,
   "id": "a558877f",
   "metadata": {},
   "outputs": [
    {
     "name": "stdout",
     "output_type": "stream",
     "text": [
      "First Name : asad\n",
      "Last Name : BHatti\n",
      "Full Name  BHatti asad\n"
     ]
    }
   ],
   "source": [
    "firstname = input(\"First Name : \");\n",
    "lastname = input(\"Last Name : \");\n",
    "print (\"Full Name  \" + lastname + \" \" + firstname)"
   ]
  },
  {
   "cell_type": "code",
   "execution_count": 20,
   "id": "7370f0fe",
   "metadata": {},
   "outputs": [
    {
     "name": "stdout",
     "output_type": "stream",
     "text": [
      "first number: 34444324234324234324324324324243\n",
      "second number: 35873563687536587638756435643856438756834587435\n",
      "result: 35873563687536622083080669968090763081158911678\n"
     ]
    }
   ],
   "source": [
    "a = int(input(\"first number: \"));\n",
    "b = int(input(\"second number: \"));\n",
    "sum = a + b\n",
    "print(\"result:\", sum)"
   ]
  },
  {
   "cell_type": "code",
   "execution_count": 22,
   "id": "415f1294",
   "metadata": {},
   "outputs": [
    {
     "name": "stdout",
     "output_type": "stream",
     "text": [
      "Enter marks of English: 55\n",
      "Enter marks of Islamiat: 78\n",
      "Enter marks of Maths: 33\n",
      "Enter marks of Science: 44\n",
      "Enter marks of Urdu: 67\n",
      "You Achived Grade C\n"
     ]
    }
   ],
   "source": [
    "eng = int(input(\"Enter marks of English: \"));\n",
    "isl = int(input(\"Enter marks of Islamiat: \"));\n",
    "mat = int(input(\"Enter marks of Maths: \"));\n",
    "sci = int(input(\"Enter marks of Science: \"));\n",
    "urd = int(input(\"Enter marks of Urdu: \"));\n",
    "total = 500;\n",
    "om = (eng + isl + mat + sci + urd);\n",
    "percent = (om * 100 / total);\n",
    "if percent < 100 and percent > 80:\n",
    "    print(\"You Achived Grade A+\");\n",
    "elif percent < 80 and percent > 70:\n",
    "    print(\"You Achived Grade A\");\n",
    "elif percent < 70 and percent > 60:\n",
    "    print(\"You Achived Grade B\");\n",
    "elif percent < 60 and percent > 50:\n",
    "    print(\"You Achived Grade C\");\n",
    "elif percent < 50 and percent > 40:\n",
    "    print(\"You Achived Grade D\");\n",
    "elif percent < 40 and percent > 33:\n",
    "    print(\"You Achived Grade E\");\n",
    "elif percent < 33 and percent > 0:\n",
    "    print(\"You Achived Grade F\");\n",
    "elif percent < 0 and percent > -10:\n",
    "    print(\"Please Get Out From The School\");\n",
    "else:\n",
    "    print(\"Fail\");"
   ]
  },
  {
   "cell_type": "code",
   "execution_count": 33,
   "id": "c75f93d9",
   "metadata": {},
   "outputs": [
    {
     "name": "stdout",
     "output_type": "stream",
     "text": [
      "Enter a number: 88\n",
      "This is an even number.\n"
     ]
    }
   ],
   "source": [
    "num = int(input(\"Enter a number: \"));\n",
    "mod = num % 2\n",
    "if mod > 0:\n",
    "    print(\"This is an odd number.\");\n",
    "else:\n",
    "    print(\"This is an even number.\");"
   ]
  },
  {
   "cell_type": "code",
   "execution_count": 32,
   "id": "801a4909",
   "metadata": {},
   "outputs": [
    {
     "name": "stdout",
     "output_type": "stream",
     "text": [
      "11\n"
     ]
    }
   ],
   "source": [
    "a = [1, 1, 2, 3, 5, 8, 13, 21, 34, 55, 89]\n",
    "print (len(a))"
   ]
  },
  {
   "cell_type": "code",
   "execution_count": 36,
   "id": "32b77c30",
   "metadata": {},
   "outputs": [
    {
     "name": "stdout",
     "output_type": "stream",
     "text": [
      "232\n"
     ]
    }
   ],
   "source": [
    "def sum_list(items):\n",
    "    sum_numbers = 0\n",
    "    for x in items:\n",
    "        sum_numbers += x\n",
    "    return sum_numbers\n",
    "print(sum_list([1, 1, 2, 3, 5, 8, 13, 21, 34, 55, 89]))"
   ]
  },
  {
   "cell_type": "code",
   "execution_count": 37,
   "id": "81436d53",
   "metadata": {},
   "outputs": [
    {
     "name": "stdout",
     "output_type": "stream",
     "text": [
      "89\n"
     ]
    }
   ],
   "source": [
    "def max_num_in_list( list ):\n",
    "    max = list[ 0 ]\n",
    "    for a in list:\n",
    "        if a > max:\n",
    "            max = a\n",
    "    return max\n",
    "print(max_num_in_list([1, 1, 2, 3, 5, 8, 13, 21, 34, 55, 89]))"
   ]
  },
  {
   "cell_type": "code",
   "execution_count": 38,
   "id": "136d7e10",
   "metadata": {},
   "outputs": [
    {
     "name": "stdout",
     "output_type": "stream",
     "text": [
      "[1, 1, 2, 3]\n"
     ]
    }
   ],
   "source": [
    "a = [1, 1, 2, 3, 5, 8, 13, 21, 34, 55, 89] \n",
    "x=list(filter(lambda k:k<5,a)) \n",
    "print(x) "
   ]
  },
  {
   "cell_type": "code",
   "execution_count": null,
   "id": "aee78906",
   "metadata": {},
   "outputs": [],
   "source": []
  }
 ],
 "metadata": {
  "kernelspec": {
   "display_name": "Python 3",
   "language": "python",
   "name": "python3"
  },
  "language_info": {
   "codemirror_mode": {
    "name": "ipython",
    "version": 3
   },
   "file_extension": ".py",
   "mimetype": "text/x-python",
   "name": "python",
   "nbconvert_exporter": "python",
   "pygments_lexer": "ipython3",
   "version": "3.8.8"
  }
 },
 "nbformat": 4,
 "nbformat_minor": 5
}
